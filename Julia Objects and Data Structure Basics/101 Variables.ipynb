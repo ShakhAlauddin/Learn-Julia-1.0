{
 "cells": [
  {
   "cell_type": "markdown",
   "metadata": {},
   "source": [
    "# 101 Julia Variables\n",
    "\n",
    "### What is Variable? \n",
    "\n",
    "A variable is usually a storage location which contains some known or unknown quantity of information referred to as values. Variable name is the usual way to reference the stored value. \n",
    "\n",
    "A simple way to assigning a value to a variable is following:"
   ]
  },
  {
   "cell_type": "code",
   "execution_count": 1,
   "metadata": {},
   "outputs": [
    {
     "data": {
      "text/plain": [
       "10"
      ]
     },
     "execution_count": 1,
     "metadata": {},
     "output_type": "execute_result"
    }
   ],
   "source": [
    "x= 10"
   ]
  },
  {
   "cell_type": "code",
   "execution_count": 2,
   "metadata": {},
   "outputs": [
    {
     "data": {
      "text/plain": [
       "10"
      ]
     },
     "execution_count": 2,
     "metadata": {},
     "output_type": "execute_result"
    }
   ],
   "source": [
    "# We can get the value of x whenever we need as long it is not overritten by oter values.\n",
    "\n",
    "x"
   ]
  },
  {
   "cell_type": "markdown",
   "metadata": {},
   "source": [
    "We can also assign a value after a matmatical operation. A simple way to store a result of mathmatical operation is following:"
   ]
  },
  {
   "cell_type": "code",
   "execution_count": 3,
   "metadata": {},
   "outputs": [
    {
     "data": {
      "text/plain": [
       "14"
      ]
     },
     "execution_count": 3,
     "metadata": {},
     "output_type": "execute_result"
    }
   ],
   "source": [
    "x= 4+10"
   ]
  },
  {
   "cell_type": "code",
   "execution_count": 4,
   "metadata": {},
   "outputs": [
    {
     "data": {
      "text/plain": [
       "14"
      ]
     },
     "execution_count": 4,
     "metadata": {},
     "output_type": "execute_result"
    }
   ],
   "source": [
    "# Since we have assigned a new value of x by mathamatical operation, old vale is no longer availabe for x. \n",
    "# New value for x is now 14\n",
    "\n",
    "x"
   ]
  },
  {
   "cell_type": "markdown",
   "metadata": {},
   "source": [
    "### Allowed variable names\n",
    "\n",
    "Variable name must begin with \n",
    "- a letter (A-Z or a-z), \n",
    "- underscore, \n",
    "- or a subset of Unicode Code points gather than 00A0, \n",
    " - a few other letter-like characters (e.g. a subset of the Sm math symbols)\n",
    " - Sc/So (currency and other symbols)\n",
    " -  Unicode character categories Lu/Ll/Lt/Lm/Lo/Nl (letters) are allowed\n",
    " \n",
    " \n",
    "Subsequent characters may also include\n",
    " - ! and digits (0-9 and other characters in categories Nd/No), \n",
    " - as well as other Unicode code points: diacritics and other modifying marks (categories Mn/Mc/Me/Sk), \n",
    " - some punctuation connectors (category Pc), \n",
    " - primes, \n",
    " - and a few other characters.\n",
    " \n",
    " \n",
    "a unicode general category can be found (https://en.wikipedia.org/wiki/Template:General_Category_(Unicode)\n",
    "\n"
   ]
  },
  {
   "cell_type": "code",
   "execution_count": 5,
   "metadata": {},
   "outputs": [
    {
     "data": {
      "text/plain": [
       "2"
      ]
     },
     "execution_count": 5,
     "metadata": {},
     "output_type": "execute_result"
    }
   ],
   "source": [
    "#Variable name start with a letter and underscore is valid variable name.\n",
    "\n",
    "var=1\n",
    "_var=1\n",
    "\n",
    "var+_var"
   ]
  },
  {
   "cell_type": "code",
   "execution_count": 6,
   "metadata": {},
   "outputs": [
    {
     "data": {
      "text/plain": [
       "5"
      ]
     },
     "execution_count": 6,
     "metadata": {},
     "output_type": "execute_result"
    }
   ],
   "source": [
    "#A '!' inside the variable name is a valid variable name.\n",
    "\n",
    "var!var= 5"
   ]
  },
  {
   "cell_type": "code",
   "execution_count": 7,
   "metadata": {
    "scrolled": true
   },
   "outputs": [
    {
     "ename": "UndefVarError",
     "evalue": "UndefVarError: variable not defined",
     "output_type": "error",
     "traceback": [
      "UndefVarError: variable not defined",
      "",
      "Stacktrace:",
      " [1] top-level scope at In[7]:4"
     ]
    }
   ],
   "source": [
    "#A '!' at the begenning or end is not a valid variable name. \n",
    "#If '!' is put at the end of variable name it works is not equal '!='.\n",
    "\n",
    "variable!=10"
   ]
  },
  {
   "cell_type": "code",
   "execution_count": 8,
   "metadata": {},
   "outputs": [
    {
     "data": {
      "text/plain": [
       "! (generic function with 1 method)"
      ]
     },
     "execution_count": 8,
     "metadata": {},
     "output_type": "execute_result"
    }
   ],
   "source": [
    "#A '!' at the begenning is also not a valid variable name. \n",
    "\n",
    "!variable=5"
   ]
  },
  {
   "cell_type": "markdown",
   "metadata": {},
   "source": [
    "### Not Allowed variable name\n",
    "\n",
    "Variable name can not \n",
    " - **begin with a Number**\n",
    " - **Names of built-in statements**\n",
    " - have a operator (+, -, *, /, <, >, etc)\n",
    " - other operators (i.e. @)"
   ]
  },
  {
   "cell_type": "code",
   "execution_count": 9,
   "metadata": {
    "scrolled": false
   },
   "outputs": [
    {
     "ename": "ErrorException",
     "evalue": "syntax: \"23\" is not a valid function argument name",
     "output_type": "error",
     "traceback": [
      "syntax: \"23\" is not a valid function argument name",
      ""
     ]
    }
   ],
   "source": [
    "#Variable name starting with a number does not work. \n",
    "\n",
    "23x= 23"
   ]
  },
  {
   "cell_type": "code",
   "execution_count": 10,
   "metadata": {
    "scrolled": true
   },
   "outputs": [
    {
     "ename": "LoadError",
     "evalue": "syntax: unexpected \"=\"",
     "output_type": "error",
     "traceback": [
      "syntax: unexpected \"=\"",
      ""
     ]
    }
   ],
   "source": [
    "#Variable name that match the built in function or statement name. \n",
    "\n",
    "if=5"
   ]
  },
  {
   "cell_type": "code",
   "execution_count": 11,
   "metadata": {},
   "outputs": [
    {
     "data": {
      "text/plain": [
       "25"
      ]
     },
     "execution_count": 11,
     "metadata": {},
     "output_type": "execute_result"
    }
   ],
   "source": [
    "#Variable name is case sensetive. 'IF' and built in statement 'if' is not similar so 'IF' can be a valid variable name.  \n",
    "\n",
    "IF=25"
   ]
  },
  {
   "cell_type": "code",
   "execution_count": 12,
   "metadata": {},
   "outputs": [
    {
     "data": {
      "text/plain": [
       "23"
      ]
     },
     "execution_count": 12,
     "metadata": {},
     "output_type": "execute_result"
    }
   ],
   "source": [
    "#Variable name contains number after a character works!\n",
    "\n",
    "x23= 23"
   ]
  },
  {
   "cell_type": "code",
   "execution_count": 13,
   "metadata": {
    "scrolled": true
   },
   "outputs": [
    {
     "ename": "LoadError",
     "evalue": "syntax: extra token \"@\" after end of expression",
     "output_type": "error",
     "traceback": [
      "syntax: extra token \"@\" after end of expression",
      ""
     ]
    }
   ],
   "source": [
    "#A variable contains an operator does not work! \n",
    "\n",
    "x@=5"
   ]
  },
  {
   "cell_type": "markdown",
   "metadata": {},
   "source": [
    "### While Julia imposes few restrictions on valid names, it has become useful to adopt the following conventions:\n",
    "\n",
    "- Names of variables are in lower case.\n",
    "- Word separation can be indicated by underscores ('_'), but use of underscores is discouraged unless the name would be hard to read otherwise.\n",
    "- Names of Types and Modules begin with a capital letter and word separation is shown with upper camel case instead of underscores.\n",
    "- Names of functions and macros are in lower case, without underscores.\n",
    "- Functions that write to their arguments have names that end in !. These are sometimes called \"mutating\" or \"in-place\" functions because they are intended to produce changes in their arguments after the function is called, not just return a value.\n",
    "\n",
    "more information is [here](https://docs.julialang.org/en/v1/manual/variables/)"
   ]
  }
 ],
 "metadata": {
  "kernelspec": {
   "display_name": "Julia 1.0.0",
   "language": "julia",
   "name": "julia-1.0"
  },
  "language_info": {
   "file_extension": ".jl",
   "mimetype": "application/julia",
   "name": "julia",
   "version": "1.0.0"
  }
 },
 "nbformat": 4,
 "nbformat_minor": 2
}
