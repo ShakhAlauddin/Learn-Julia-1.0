{
 "cells": [
  {
   "cell_type": "markdown",
   "metadata": {},
   "source": [
    "# What is Variable? \n",
    "\n",
    "A variable is usually a storage location which contains some known or unknown quantity of information referred to as values. Variable name is the usual way to reference the stored value. \n",
    "\n",
    "A simple way to assigning a value to a variable is following:"
   ]
  },
  {
   "cell_type": "code",
   "execution_count": 1,
   "metadata": {},
   "outputs": [
    {
     "data": {
      "text/plain": [
       "10"
      ]
     },
     "execution_count": 1,
     "metadata": {},
     "output_type": "execute_result"
    }
   ],
   "source": [
    "x= 10"
   ]
  },
  {
   "cell_type": "code",
   "execution_count": 2,
   "metadata": {},
   "outputs": [
    {
     "data": {
      "text/plain": [
       "10"
      ]
     },
     "execution_count": 2,
     "metadata": {},
     "output_type": "execute_result"
    }
   ],
   "source": [
    "# We can get the value of x whenever we need as long it is not overritten by oter values.\n",
    "\n",
    "x"
   ]
  },
  {
   "cell_type": "markdown",
   "metadata": {},
   "source": [
    "We can also assign a value after a matmatical operation. A simple way to store a result of mathmatical operation is following:"
   ]
  },
  {
   "cell_type": "code",
   "execution_count": 3,
   "metadata": {},
   "outputs": [
    {
     "data": {
      "text/plain": [
       "14"
      ]
     },
     "execution_count": 3,
     "metadata": {},
     "output_type": "execute_result"
    }
   ],
   "source": [
    "x= 4+10"
   ]
  },
  {
   "cell_type": "code",
   "execution_count": 5,
   "metadata": {},
   "outputs": [
    {
     "data": {
      "text/plain": [
       "14"
      ]
     },
     "execution_count": 5,
     "metadata": {},
     "output_type": "execute_result"
    }
   ],
   "source": [
    "# Since we have assigned a new value of x by mathamatical operation, old vale is no longer availabe for x. \n",
    "# New value for x is now 14\n",
    "\n",
    "x"
   ]
  },
  {
   "cell_type": "markdown",
   "metadata": {},
   "source": [
    "### Allowed variable names\n",
    "\n",
    "Variable name must begin with \n",
    "- a letter (A-Z or a-z), \n",
    "- underscore, \n",
    "- or a subset of Unicode Code points gather than 00A0, \n",
    " - a few other letter-like characters (e.g. a subset of the Sm math symbols)\n",
    " - Sc/So (currency and other symbols)\n",
    " -  Unicode character categories Lu/Ll/Lt/Lm/Lo/Nl (letters) are allowed\n",
    " \n",
    " \n",
    "Subsequent characters may also include\n",
    " - ! and digits (0-9 and other characters in categories Nd/No), \n",
    " - as well as other Unicode code points: diacritics and other modifying marks (categories Mn/Mc/Me/Sk), \n",
    " - some punctuation connectors (category Pc), \n",
    " - primes, \n",
    " - and a few other characters.\n",
    " \n",
    " \n",
    "a unicode general category can be found (https://en.wikipedia.org/wiki/Template:General_Category_(Unicode)\n",
    "\n"
   ]
  },
  {
   "cell_type": "code",
   "execution_count": null,
   "metadata": {},
   "outputs": [],
   "source": []
  },
  {
   "cell_type": "code",
   "execution_count": null,
   "metadata": {},
   "outputs": [],
   "source": []
  },
  {
   "cell_type": "code",
   "execution_count": null,
   "metadata": {},
   "outputs": [],
   "source": []
  },
  {
   "cell_type": "markdown",
   "metadata": {},
   "source": [
    "### Not Allowed variable name\n",
    "\n",
    "Variable name can not \n",
    " - **begin with a Number**\n",
    " - can not have a operator (+, -, *, /, @, etc)"
   ]
  },
  {
   "cell_type": "code",
   "execution_count": null,
   "metadata": {},
   "outputs": [],
   "source": []
  },
  {
   "cell_type": "markdown",
   "metadata": {},
   "source": [
    "#### While Julia imposes few restrictions on valid names, it has become useful to adopt the following conventions:\n",
    "\n",
    "- Names of variables are in lower case.\n",
    "- Word separation can be indicated by underscores ('_'), but use of underscores is discouraged unless the name would be hard to read otherwise.\n",
    "- Names of Types and Modules begin with a capital letter and word separation is shown with upper camel case instead of underscores.\n",
    "- Names of functions and macros are in lower case, without underscores.\n",
    "- Functions that write to their arguments have names that end in !. These are sometimes called \"mutating\" or \"in-place\" functions because they are intended to produce changes in their arguments after the function is called, not just return a value.\n",
    "\n",
    "more information is [here](https://docs.julialang.org/en/v1/manual/variables/)"
   ]
  },
  {
   "cell_type": "code",
   "execution_count": null,
   "metadata": {},
   "outputs": [],
   "source": []
  },
  {
   "cell_type": "code",
   "execution_count": null,
   "metadata": {},
   "outputs": [],
   "source": []
  }
 ],
 "metadata": {
  "kernelspec": {
   "display_name": "Julia 1.0.0",
   "language": "julia",
   "name": "julia-1.0"
  },
  "language_info": {
   "file_extension": ".jl",
   "mimetype": "application/julia",
   "name": "julia",
   "version": "1.0.0"
  }
 },
 "nbformat": 4,
 "nbformat_minor": 2
}
